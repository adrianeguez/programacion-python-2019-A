{
 "cells": [
  {
   "cell_type": "markdown",
   "metadata": {},
   "source": [
    "# Titulo uno\n",
    "\n",
    "Hola esto es un parrafo\n",
    "\n",
    "## Titulo dos\n",
    "\n",
    "### Titulo tres \n",
    "\n",
    "..."
   ]
  },
  {
   "cell_type": "markdown",
   "metadata": {},
   "source": [
    "Mi nombre es **Adrian** y me gusta el ~~camaranon~~"
   ]
  },
  {
   "cell_type": "markdown",
   "metadata": {},
   "source": [
    "### Listas No Ordenadas\n",
    "-  Pizza\n",
    "    1. HARINA\n",
    "      - NO ORDENADA\n",
    "      - NO ORDENADA\n",
    "      - NO ORDENADA\n",
    "    2. HUEVOS\n",
    "    3. MANTEQUILLA\n",
    "-  Lasagna\n",
    "-  Ensalada\n",
    "\n",
    "### Listas Ordenadas\n",
    "\n",
    "1.  Pizza\n",
    "2.  Lasagna\n",
    "3.  Ensalada\n",
    "\n"
   ]
  },
  {
   "cell_type": "markdown",
   "metadata": {},
   "source": [
    "###### Links\n",
    "\n",
    "Esto es un link:\n",
    "\n",
    "- [NOMBRE DEL LINK](http://www.google.com)"
   ]
  },
  {
   "cell_type": "markdown",
   "metadata": {},
   "source": [
    "Imagenes\n",
    "\n",
    "```\n",
    "![texto_alternativo](link \"titulo\")\n",
    "```\n",
    "\n",
    "![alt text](https://tecnologia-informatica.com/wp-content/uploads/2018/01/que-es-meme-como-hacer-memes-7.jpg \"Logo Title Text 1\")"
   ]
  },
  {
   "cell_type": "markdown",
   "metadata": {},
   "source": [
    "#### Hola mundo en python\n",
    "\n",
    "```python\n",
    "print(\"Hola mundo\")\n",
    "```\n",
    "\n",
    "#### Hola mundo en javascript\n",
    "```javascript\n",
    "console.log(\"Hola Mundo\")\n",
    "```\n",
    "\n",
    "#### Comando en la terminal\n",
    "```\n",
    "$ conda install numpy\n",
    "```"
   ]
  },
  {
   "cell_type": "markdown",
   "metadata": {},
   "source": [
    "| Nombre | Apellido | Edad |\n",
    "| ------ | -------- | ---- |\n",
    "| Adrian | Eguez    |  29  |\n",
    "| Vicente | Sarzosa    |  30  |\n",
    "| Carlos | Perez    |  28  |\n",
    "| Andrea | Villaroel    |  34  |\n",
    "| Carolina | Zambrano    |  12  |"
   ]
  },
  {
   "cell_type": "markdown",
   "metadata": {},
   "source": [
    "<h1>Adrian</h1>\n",
    "<table>\n",
    "    <tr>\n",
    "        <td>asdasd</td>\n",
    "    </tr>\n",
    "</table>"
   ]
  },
  {
   "cell_type": "code",
   "execution_count": null,
   "metadata": {},
   "outputs": [],
   "source": []
  },
  {
   "cell_type": "code",
   "execution_count": null,
   "metadata": {},
   "outputs": [],
   "source": []
  },
  {
   "cell_type": "code",
   "execution_count": null,
   "metadata": {},
   "outputs": [],
   "source": []
  },
  {
   "cell_type": "code",
   "execution_count": null,
   "metadata": {},
   "outputs": [],
   "source": []
  },
  {
   "cell_type": "code",
   "execution_count": null,
   "metadata": {},
   "outputs": [],
   "source": []
  },
  {
   "cell_type": "code",
   "execution_count": null,
   "metadata": {},
   "outputs": [],
   "source": []
  },
  {
   "cell_type": "code",
   "execution_count": null,
   "metadata": {},
   "outputs": [],
   "source": []
  },
  {
   "cell_type": "code",
   "execution_count": null,
   "metadata": {},
   "outputs": [],
   "source": []
  },
  {
   "cell_type": "code",
   "execution_count": null,
   "metadata": {},
   "outputs": [],
   "source": []
  },
  {
   "cell_type": "code",
   "execution_count": null,
   "metadata": {},
   "outputs": [],
   "source": []
  },
  {
   "cell_type": "code",
   "execution_count": null,
   "metadata": {},
   "outputs": [],
   "source": []
  },
  {
   "cell_type": "code",
   "execution_count": null,
   "metadata": {},
   "outputs": [],
   "source": []
  }
 ],
 "metadata": {
  "kernelspec": {
   "display_name": "Python 3",
   "language": "python",
   "name": "python3"
  },
  "language_info": {
   "codemirror_mode": {
    "name": "ipython",
    "version": 3
   },
   "file_extension": ".py",
   "mimetype": "text/x-python",
   "name": "python",
   "nbconvert_exporter": "python",
   "pygments_lexer": "ipython3",
   "version": "3.7.0"
  }
 },
 "nbformat": 4,
 "nbformat_minor": 2
}
