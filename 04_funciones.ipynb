{
 "cells": [
  {
   "cell_type": "code",
   "execution_count": 2,
   "metadata": {},
   "outputs": [
    {
     "name": "stdout",
     "output_type": "stream",
     "text": [
      "Adrian\n"
     ]
    }
   ],
   "source": [
    "# Funciones\n",
    "def imprimir_nombre(nombre):\n",
    "    print(f\"{nombre}\")\n",
    "imprimir_nombre(\"Adrian\")"
   ]
  },
  {
   "cell_type": "code",
   "execution_count": 3,
   "metadata": {},
   "outputs": [
    {
     "name": "stdout",
     "output_type": "stream",
     "text": [
      "Adrian\n"
     ]
    },
    {
     "data": {
      "text/plain": [
       "NoneType"
      ]
     },
     "execution_count": 3,
     "metadata": {},
     "output_type": "execute_result"
    }
   ],
   "source": [
    "type(imprimir_nombre(\"Adrian\"))"
   ]
  },
  {
   "cell_type": "code",
   "execution_count": 4,
   "metadata": {},
   "outputs": [],
   "source": [
    "def sumar_dos_numeros(numero_uno, numero_dos):\n",
    "    return numero_uno + numero_dos"
   ]
  },
  {
   "cell_type": "code",
   "execution_count": 7,
   "metadata": {},
   "outputs": [
    {
     "data": {
      "text/plain": [
       "int"
      ]
     },
     "execution_count": 7,
     "metadata": {},
     "output_type": "execute_result"
    }
   ],
   "source": [
    "type(sumar_dos_numeros(1,2))\n",
    "# type(sumar_dos_numeros(\"1\",2)) # Error de Tipo"
   ]
  },
  {
   "cell_type": "code",
   "execution_count": 8,
   "metadata": {},
   "outputs": [],
   "source": [
    "def imprimir_nombre_universidad(nombre_universidad = \"EPN\"):\n",
    "    print(nombre_universidad)"
   ]
  },
  {
   "cell_type": "code",
   "execution_count": 10,
   "metadata": {},
   "outputs": [
    {
     "name": "stdout",
     "output_type": "stream",
     "text": [
      "EPN\n"
     ]
    }
   ],
   "source": [
    "imprimir_nombre_universidad()"
   ]
  },
  {
   "cell_type": "code",
   "execution_count": 11,
   "metadata": {},
   "outputs": [
    {
     "name": "stdout",
     "output_type": "stream",
     "text": [
      "Salford\n"
     ]
    }
   ],
   "source": [
    "imprimir_nombre_universidad(\"Salford\")"
   ]
  },
  {
   "cell_type": "code",
   "execution_count": 12,
   "metadata": {},
   "outputs": [],
   "source": [
    "# Parametros nombrados -> Naming Parameters\n",
    "def imprimir_datos_carro(chasis, color, marca, anio):\n",
    "    print(chasis)\n",
    "    print(color)\n",
    "    print(marca)\n",
    "    print(anio)"
   ]
  },
  {
   "cell_type": "code",
   "execution_count": 13,
   "metadata": {},
   "outputs": [
    {
     "name": "stdout",
     "output_type": "stream",
     "text": [
      "X12\n",
      "Blanco\n",
      "BMW\n",
      "2018\n"
     ]
    }
   ],
   "source": [
    "imprimir_datos_carro(\"X12\",\"Blanco\",\"BMW\",2018)"
   ]
  },
  {
   "cell_type": "code",
   "execution_count": 16,
   "metadata": {},
   "outputs": [
    {
     "name": "stdout",
     "output_type": "stream",
     "text": [
      "X13\n",
      "Negro\n",
      "Hyundai\n",
      "2020\n"
     ]
    }
   ],
   "source": [
    "imprimir_datos_carro(anio=2020,color=\"Negro\",marca=\"Hyundai\",chasis=\"X13\")"
   ]
  },
  {
   "cell_type": "code",
   "execution_count": 24,
   "metadata": {},
   "outputs": [],
   "source": [
    "def sumar_infinitos(*numeros, suma = 0):\n",
    "    for numero in numeros:\n",
    "        suma = suma + numero\n",
    "    return suma"
   ]
  },
  {
   "cell_type": "raw",
   "metadata": {},
   "source": []
  },
  {
   "cell_type": "code",
   "execution_count": 29,
   "metadata": {},
   "outputs": [
    {
     "data": {
      "text/plain": [
       "47"
      ]
     },
     "execution_count": 29,
     "metadata": {},
     "output_type": "execute_result"
    }
   ],
   "source": [
    "sumar_infinitos(1,2,3,2,3,4,5,6,7,1,2,2,4,suma=5)"
   ]
  },
  {
   "cell_type": "code",
   "execution_count": 35,
   "metadata": {},
   "outputs": [],
   "source": [
    "# Key word arguments -> **kwargs\n",
    "def imprimir_datos(**kwargs):\n",
    "    print(type(kwargs))\n",
    "    print(kwargs.keys())\n",
    "    print(kwargs.values())\n",
    "    for llave in kwargs.keys():\n",
    "        print(kwargs[llave])"
   ]
  },
  {
   "cell_type": "code",
   "execution_count": 37,
   "metadata": {},
   "outputs": [
    {
     "name": "stdout",
     "output_type": "stream",
     "text": [
      "<class 'dict'>\n",
      "dict_keys(['nombre', 'apellido', 'edad'])\n",
      "dict_values(['Adrian', 'Eguez', 10])\n",
      "Adrian\n",
      "Eguez\n",
      "10\n"
     ]
    }
   ],
   "source": [
    "imprimir_datos(nombre=\"Adrian\",apellido=\"Eguez\",edad=10)"
   ]
  },
  {
   "cell_type": "code",
   "execution_count": 40,
   "metadata": {},
   "outputs": [],
   "source": [
    "def orden_de_parametros(parametro_requerido,\n",
    "                        json,\n",
    "                        *parametro_infinito,\n",
    "                        numero_pagina=1,\n",
    "                        extension_archivo=\".pdf\",\n",
    "                        **kwargs):\n",
    "    print(f\"parametro_requerido: {parametro_requerido}\")\n",
    "    print(f\"parametro_infinito: {parametro_infinito}\")\n",
    "    print(f\"numero_pagina: {numero_pagina}\")\n",
    "    print(f\"extension_archivo: {extension_archivo}\")\n",
    "    print(f\"kwargs: {kwargs}\")"
   ]
  },
  {
   "cell_type": "code",
   "execution_count": 42,
   "metadata": {},
   "outputs": [
    {
     "name": "stdout",
     "output_type": "stream",
     "text": [
      "parametro_requerido: 1\n",
      "parametro_infinito: ({'adrian': 'eguez'}, 2, 3, 4, 5)\n",
      "numero_pagina: 1\n",
      "extension_archivo: .docx\n",
      "kwargs: {'nombre': 'Adrian'}\n"
     ]
    }
   ],
   "source": [
    "orden_de_parametros(1,{\"adrian\":\"eguez\"},2,3,4,5,extension_archivo=\".docx\",nombre=\"Adrian\")"
   ]
  },
  {
   "cell_type": "code",
   "execution_count": null,
   "metadata": {},
   "outputs": [],
   "source": []
  },
  {
   "cell_type": "code",
   "execution_count": null,
   "metadata": {},
   "outputs": [],
   "source": []
  },
  {
   "cell_type": "code",
   "execution_count": null,
   "metadata": {},
   "outputs": [],
   "source": []
  },
  {
   "cell_type": "code",
   "execution_count": null,
   "metadata": {},
   "outputs": [],
   "source": []
  }
 ],
 "metadata": {
  "kernelspec": {
   "display_name": "Python 3",
   "language": "python",
   "name": "python3"
  },
  "language_info": {
   "codemirror_mode": {
    "name": "ipython",
    "version": 3
   },
   "file_extension": ".py",
   "mimetype": "text/x-python",
   "name": "python",
   "nbconvert_exporter": "python",
   "pygments_lexer": "ipython3",
   "version": "3.7.0"
  }
 },
 "nbformat": 4,
 "nbformat_minor": 2
}
