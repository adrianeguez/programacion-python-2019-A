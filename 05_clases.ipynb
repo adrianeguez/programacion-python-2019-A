{
 "cells": [
  {
   "cell_type": "code",
   "execution_count": 13,
   "metadata": {},
   "outputs": [
    {
     "name": "stdout",
     "output_type": "stream",
     "text": [
      "Nueva instancia Guayaquil\n",
      "Escuela Politecnica Nacional\n"
     ]
    }
   ],
   "source": [
    "class Escuela:\n",
    "    direccion = 'Ladron de Guevara'  # publicos\n",
    "    __extension_principal = 'Cayambe'  # privados\n",
    "    \n",
    "    def __init__(self, nombre, extension_principal):  # constructor\n",
    "        # self = this\n",
    "        self.__extension_principal = extension_principal\n",
    "        print(f\"Nueva instancia {self.__extension_principal}\")\n",
    "        print(f\"{nombre}\")\n",
    "        \n",
    "    def imprimir(self):\n",
    "        print(self.direccion)\n",
    "        print(self.__extension_principal)\n",
    "    \n",
    "\n",
    "epn = Escuela(\"Escuela Politecnica Nacional\",\"Guayaquil\")"
   ]
  },
  {
   "cell_type": "code",
   "execution_count": 14,
   "metadata": {},
   "outputs": [
    {
     "name": "stdout",
     "output_type": "stream",
     "text": [
      "Ladron de Guevara\n",
      "Guayaquil\n"
     ]
    }
   ],
   "source": [
    "epn.imprimir()"
   ]
  },
  {
   "cell_type": "code",
   "execution_count": null,
   "metadata": {},
   "outputs": [],
   "source": []
  },
  {
   "cell_type": "code",
   "execution_count": null,
   "metadata": {},
   "outputs": [],
   "source": []
  }
 ],
 "metadata": {
  "kernelspec": {
   "display_name": "Python 3",
   "language": "python",
   "name": "python3"
  },
  "language_info": {
   "codemirror_mode": {
    "name": "ipython",
    "version": 3
   },
   "file_extension": ".py",
   "mimetype": "text/x-python",
   "name": "python",
   "nbconvert_exporter": "python",
   "pygments_lexer": "ipython3",
   "version": "3.7.0"
  }
 },
 "nbformat": 4,
 "nbformat_minor": 2
}
